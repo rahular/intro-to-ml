{
 "cells": [
  {
   "cell_type": "code",
   "execution_count": 27,
   "id": "a7a53690",
   "metadata": {},
   "outputs": [],
   "source": [
    "import random\n",
    "import numpy as np\n",
    "import matplotlib.pyplot as plt\n",
    "from sklearn import datasets\n",
    "from sklearn.linear_model import LogisticRegression\n",
    "\n",
    "SEED = 42\n",
    "random.seed(SEED)\n",
    "np.random.seed(SEED)"
   ]
  },
  {
   "cell_type": "markdown",
   "id": "f1f5a88a",
   "metadata": {},
   "source": [
    "## Linear Regression"
   ]
  },
  {
   "cell_type": "markdown",
   "id": "fc0acdbf",
   "metadata": {},
   "source": [
    "Tip: Equation of a line is $y = mx+c$"
   ]
  },
  {
   "cell_type": "code",
   "execution_count": 3,
   "id": "d3e402d7",
   "metadata": {},
   "outputs": [
    {
     "name": "stdout",
     "output_type": "stream",
     "text": [
      "[0 1 2 3 4 5 6 7 8 9]\n",
      "[10 13 16 19 22 25 28 31 34 37]\n"
     ]
    },
    {
     "data": {
      "image/png": "[encoded data removed]",
      "text/plain": [
       "<Figure size 432x288 with 1 Axes>"
      ]
     },
     "metadata": {
      "needs_background": "light"
     },
     "output_type": "display_data"
    }
   ],
   "source": [
    "m = 3\n",
    "c = 10\n",
    "X = np.arange(0,10)\n",
    "Y = m*X+c\n",
    "\n",
    "print(X)\n",
    "print(Y)\n",
    "\n",
    "ax = plt.subplot()\n",
    "ax.plot(X, Y, 'o');"
   ]
  },
  {
   "cell_type": "code",
   "execution_count": 15,
   "id": "272f6f9d",
   "metadata": {},
   "outputs": [],
   "source": [
    "m_guess = 0\n",
    "c_guess = 0\n",
    "\n",
    "epochs = 100\n",
    "lr = 0.01    # learning rate"
   ]
  },
  {
   "cell_type": "code",
   "execution_count": 16,
   "id": "108ae701",
   "metadata": {},
   "outputs": [
    {
     "name": "stdout",
     "output_type": "stream",
     "text": [
      "m_guess: 2.99269073703976\n",
      "c_guess: 10.022306254739982\n"
     ]
    },
    {
     "data": {
      "image/png": "[encoded data removed]",
      "text/plain": [
       "<Figure size 432x288 with 1 Axes>"
      ]
     },
     "metadata": {
      "needs_background": "light"
     },
     "output_type": "display_data"
    }
   ],
   "source": [
    "def find_values(X, Y, m_guess, c_guess):\n",
    "    for _ in range(epochs):\n",
    "        for x, y in zip(X, Y):\n",
    "            y_guess = m_guess * x + c_guess                      # make a guess\n",
    "            error = (y - y_guess)**2                             # compute error\n",
    "\n",
    "            y_guess_with_delta_m = (m_guess+0.01) * x + c_guess  # make a guess with m+dm\n",
    "            y_guess_with_delta_c = m_guess * x + (c_guess+0.01)  # make a guess with c+dc\n",
    "\n",
    "            err_with_delta_m = (y - y_guess_with_delta_m)**2     # compute error with m+dm\n",
    "            err_with_delta_c = (y - y_guess_with_delta_c)**2     # compute error with c+dc\n",
    "\n",
    "            de_dm = (err_with_delta_m - error) / 0.01            # how much does new error rise with m+dm\n",
    "            de_dc = (err_with_delta_c - error) / 0.01            # how much does new error rise with c+dc\n",
    "\n",
    "            new_m = m_guess - (de_dm * lr)                       # make a new guess for m\n",
    "            new_c = c_guess - (de_dc * lr)                       # make a new guess for c\n",
    "\n",
    "            m_guess = new_m\n",
    "            c_guess = new_c\n",
    "\n",
    "    return m_guess, c_guess\n",
    "\n",
    "m_guess, c_guess = find_values(X, Y, m_guess, c_guess)\n",
    "print(\"m_guess:\", m_guess)\n",
    "print(\"c_guess:\", c_guess)\n",
    "\n",
    "ax = plt.subplot()\n",
    "ax.plot(X, Y, 'o');\n",
    "ax.plot(X, m_guess*X+c_guess);"
   ]
  },
  {
   "cell_type": "markdown",
   "id": "ee3cbeb2",
   "metadata": {},
   "source": [
    "## Logistic Regression"
   ]
  },
  {
   "cell_type": "code",
   "execution_count": 18,
   "id": "17244a34",
   "metadata": {},
   "outputs": [
    {
     "name": "stdout",
     "output_type": "stream",
     "text": [
      "[[3.26622695 9.32148409]\n",
      " [8.40299066 7.04038689]\n",
      " [3.20101846 9.61806565]\n",
      " [8.14199958 7.88337782]\n",
      " [7.54739935 7.2937276 ]]\n",
      "[0 1 0 1 1]\n"
     ]
    }
   ],
   "source": [
    "X, y = datasets.make_blobs(n_samples=100, centers=2, n_features=2, center_box=(0, 10), random_state=SEED)\n",
    "print(X[:5])\n",
    "print(y[:5])"
   ]
  },
  {
   "cell_type": "code",
   "execution_count": 19,
   "id": "640a021c",
   "metadata": {},
   "outputs": [
    {
     "data": {
      "image/png": "[encoded data removed]",
      "text/plain": [
       "<Figure size 432x288 with 1 Axes>"
      ]
     },
     "metadata": {
      "needs_background": "light"
     },
     "output_type": "display_data"
    }
   ],
   "source": [
    "plt.plot(X[:, 0][y == 0], X[:, 1][y == 0], 'o')\n",
    "plt.plot(X[:, 0][y == 1], X[:, 1][y == 1], 'o')\n",
    "plt.show()"
   ]
  },
  {
   "cell_type": "code",
   "execution_count": 56,
   "id": "b8224479",
   "metadata": {},
   "outputs": [],
   "source": [
    "class MyLogisticRegression() :\n",
    "    def __init__(self, lr, iters) :        \n",
    "        self.lr = lr        \n",
    "        self.iters = iters\n",
    "          \n",
    "    # Function for model training    \n",
    "    def fit(self, X, Y) :        \n",
    "        # no_of_training_examples, no_of_features        \n",
    "        self.m, self.n = X.shape        \n",
    "        # weight initialization        \n",
    "        self.W = np.zeros(self.n)        \n",
    "        self.b = 0        \n",
    "        self.X = X        \n",
    "        self.Y = Y\n",
    "          \n",
    "        # gradient descent learning\n",
    "        for i in range(self.iters) :            \n",
    "            self.update_weights()\n",
    "        \n",
    "        return self.W, self.b\n",
    "      \n",
    "    # Helper function to update weights in gradient descent\n",
    "    def update_weights(self) :           \n",
    "        yp = 1 / (1 + np.exp(-(self.X.dot(self.W) + self.b)))\n",
    "          \n",
    "        # calculate gradients        \n",
    "        err = yp - self.Y.T        \n",
    "        err = np.reshape(err, self.m)        \n",
    "        dW = np.dot(self.X.T, err) / self.m         \n",
    "        db = np.sum(err) / self.m \n",
    "          \n",
    "        # update weights    \n",
    "        self.W = self.W - self.lr * dW    \n",
    "        self.b = self.b - self.lr * db\n",
    "    \n",
    "    def predict( self, X ) :    \n",
    "        Z = 1 / (1 + np.exp(-(X.dot(self.W) + self.b)))        \n",
    "        Y = np.where(Z > 0.5, 1, 0) \n",
    "        return Y"
   ]
  },
  {
   "cell_type": "code",
   "execution_count": 114,
   "id": "104799ac",
   "metadata": {},
   "outputs": [],
   "source": [
    "def get_random_color():\n",
    "    return random.choice(['black', 'red', 'blue', 'green', 'yellow', 'orange', 'cyan', 'purple'])\n",
    "\n",
    "def get_decision_boundary(X, clfs, names):\n",
    "    h = .02  # step size in the mesh\n",
    "    x_min, x_max = X[:, 0].min() - 1, X[:, 0].max() + 1\n",
    "    y_min, y_max = X[:, 1].min() - 1, X[:, 1].max() + 1\n",
    "    xx, yy = np.meshgrid(np.arange(x_min, x_max, h),\n",
    "                         np.arange(y_min, y_max, h))\n",
    "\n",
    "    Z = [clf.predict(np.c_[xx.ravel(), yy.ravel()]) for clf in clfs]\n",
    "\n",
    "    fig = plt.figure()\n",
    "    plt.plot(X[:, 0][y == 0], X[:, 1][y == 0], 'o')\n",
    "    plt.plot(X[:, 0][y == 1], X[:, 1][y == 1], 'o')\n",
    "\n",
    "    Z = [z.reshape(xx.shape) for z in Z]\n",
    "    for i, z in enumerate(Z):\n",
    "        ctr = plt.contour(xx, yy, z, 1, colors=get_random_color())\n",
    "        plt.clabel(ctr, inline=1, fontsize=10)\n",
    "        ctr.collections[i].set_label(names[i])\n",
    "\n",
    "    plt.legend(loc='lower left')\n",
    "    plt.show()"
   ]
  },
  {
   "cell_type": "code",
   "execution_count": 115,
   "id": "aff61ea2",
   "metadata": {},
   "outputs": [
    {
     "name": "stdout",
     "output_type": "stream",
     "text": [
      "Our implementation parameters: (array([ 1.40326602, -0.97866535]), 0.013859198230510081)\n",
      "Scikit implementation parameters: (array([[ 1.8653136 , -1.29676196]]), array([-0.01865054]))\n"
     ]
    }
   ],
   "source": [
    "# our implementation\n",
    "my_clf = MyLogisticRegression(0.01, 1000)\n",
    "my_W, my_b = my_clf.fit(X, y)\n",
    "\n",
    "# scikit implementation\n",
    "clf = LogisticRegression()\n",
    "clf.fit(X, y)\n",
    "W, b = clf.coef_, clf.intercept_\n",
    "\n",
    "print(\"Our implementation parameters:\", (my_W, my_b))\n",
    "print(\"Scikit implementation parameters:\", (W, b))"
   ]
  },
  {
   "cell_type": "code",
   "execution_count": 119,
   "id": "6293d24f",
   "metadata": {},
   "outputs": [
    {
     "data": {
      "image/png": "[encoded data removed]",
      "text/plain": [
       "<Figure size 432x288 with 1 Axes>"
      ]
     },
     "metadata": {
      "needs_background": "light"
     },
     "output_type": "display_data"
    }
   ],
   "source": [
    "get_decision_boundary(X, [clf, my_clf], ['Scikit', 'Custom'])"
   ]
  },
  {
   "cell_type": "code",
   "execution_count": null,
   "id": "2f7ef8a1",
   "metadata": {},
   "outputs": [],
   "source": []
  }
 ],
 "metadata": {
  "kernelspec": {
   "display_name": "Python 3",
   "language": "python",
   "name": "python3"
  },
  "language_info": {
   "codemirror_mode": {
    "name": "ipython",
    "version": 3
   },
   "file_extension": ".py",
   "mimetype": "text/x-python",
   "name": "python",
   "nbconvert_exporter": "python",
   "pygments_lexer": "ipython3",
   "version": "3.9.1"
  }
 },
 "nbformat": 4,
 "nbformat_minor": 5
}
